{
 "cells": [
  {
   "cell_type": "markdown",
   "id": "dec9134e",
   "metadata": {},
   "source": [
    "Ans1. \n",
    "* = Expression\n",
    "'hello' = Value\n",
    "-87.8 = Value\n",
    "- = Expression\n",
    "/ = Expression\n",
    "+ = Expression\n",
    "6 = Value"
   ]
  },
  {
   "cell_type": "markdown",
   "id": "16e4b69a",
   "metadata": {},
   "source": [
    "Ans2. \n",
    "Variables are the symbols that can be used to store the data. for e.g An empty bottle is used to store anything.\n",
    "String is the data that we can give to the system. String basically is stored inside the variable"
   ]
  },
  {
   "cell_type": "markdown",
   "id": "c5d1336a",
   "metadata": {},
   "source": [
    "Ans3.\n",
    "There are many type of datatypes in python language such as int, str, float, complex, list\n",
    "a) str : string(str) is one of the datatype that is used to store the data. This datatype is always enclosed in double or single quotes. It is highly used in python. Compiler always takes the 'input' values from the user in the form of string. for e.g \"Upendra Kumar Bajpai\"\n",
    "b) int: int is the short form of integer that is used to store data who are in the form of integer. for e.g 86\n",
    "c) float: float is used to store the numbers with decimal values in it. for e.g 95.67"
   ]
  },
  {
   "cell_type": "markdown",
   "id": "2797fe65",
   "metadata": {},
   "source": [
    "Ans4.  An expression is made up of operators such as '+, /, -, *'. An expression is combinations of operators and operands that is used to produce some other value."
   ]
  },
  {
   "cell_type": "markdown",
   "id": "c5d23c69",
   "metadata": {},
   "source": [
    "Ans5. Expression is combinations of operators and operands which is used to create a value.  Expressions is interpreted by compiler to create a new value. While every expression represents a statement. Statement just a standalone unit of execution and doesn't return anything"
   ]
  },
  {
   "cell_type": "markdown",
   "id": "8f050110",
   "metadata": {},
   "source": [
    "Ans6. bacon = 22\n",
    "bacon + 1\n",
    "print(bacon)\n",
    "The ans will be 22"
   ]
  },
  {
   "cell_type": "markdown",
   "id": "bd5714e3",
   "metadata": {},
   "source": [
    "Ans7. spm = 'spam' + 'spamspam'\n",
    "spm_1 = 'spam' * 3\n",
    "print(spm)\n",
    "spamspamspam\n",
    "print(spm_1)\n",
    "spamspamspam\n",
    "\n",
    "The value of the both the statements is the same."
   ]
  },
  {
   "cell_type": "markdown",
   "id": "214e44d3",
   "metadata": {},
   "source": [
    "Ans8. Because variable name can't start with a digit such as 100, 500, 989 these are invalid. While egg, egg_1, egg2 is valid variable name. "
   ]
  },
  {
   "cell_type": "markdown",
   "id": "f7b0ed47",
   "metadata": {},
   "source": [
    "Ans9. value = 10\n",
    "print(int(value))\n",
    "print(float(value))\n",
    "print(str(value))"
   ]
  },
  {
   "cell_type": "markdown",
   "id": "774042f0",
   "metadata": {},
   "source": [
    "Ans10. statement = 'I have eaten' + 99 + 'burritos'\n",
    "This show error after running the program because 99 is integer, not string so it should be concatenate into str to executed."
   ]
  },
  {
   "cell_type": "code",
   "execution_count": null,
   "id": "bb291d4f",
   "metadata": {},
   "outputs": [],
   "source": []
  }
 ],
 "metadata": {
  "kernelspec": {
   "display_name": "Python 3 (ipykernel)",
   "language": "python",
   "name": "python3"
  },
  "language_info": {
   "codemirror_mode": {
    "name": "ipython",
    "version": 3
   },
   "file_extension": ".py",
   "mimetype": "text/x-python",
   "name": "python",
   "nbconvert_exporter": "python",
   "pygments_lexer": "ipython3",
   "version": "3.9.7"
  }
 },
 "nbformat": 4,
 "nbformat_minor": 5
}
